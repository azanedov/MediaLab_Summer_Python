{
 "cells": [
  {
   "cell_type": "code",
   "execution_count": null,
   "metadata": {},
   "outputs": [],
   "source": [
    "# Assignment 3\n",
    "\n",
    "import pandas as pd\n",
    "data = pd.read_excel(r\"/Users/str8d8/Documents/GitHub/MediaLab_Summer_Python/_data/bogota_firms.xlsx\", sheet_name='Results')\n",
    "data.head()\n",
    "\n",
    "### Con data shape, obtenemos el número de filas y columnas\n",
    "fil_col_ = data.shape\n",
    "### Con data size, obtenemos el número total de elementos\n",
    "elementos =data.size\n",
    "\n",
    "print (fil_col_, elementos)\n",
    "\n",
    "data.head()\n",
    "\n",
    "data[::][\"Last avail. year\"].min()\n",
    "data_ordered = data.sort_values(by=['Last avail. year'])\n",
    "data_ordered[::][\"Last avail. year\"]"
   ]
  },
  {
   "cell_type": "code",
   "execution_count": null,
   "metadata": {},
   "outputs": [],
   "source": [
    "################################################################   EXERCISE 2    #####################\n",
    "\n",
    "########### PARTE1\n",
    "\n",
    "# Specific characters to look for\n",
    "specific_chars = 'USD'\n",
    "\n",
    "# Identify columns that contain the specific characters\n",
    "columns_to_drop = [column for column in data.columns if specific_chars in column]\n",
    "\n",
    "# Drop these columns\n",
    "data.drop(columns =columns_to_drop, inplace=True)\n",
    "\n",
    "# The modified DataFrame\n",
    "data.head()"
   ]
  },
  {
   "cell_type": "code",
   "execution_count": null,
   "metadata": {},
   "outputs": [],
   "source": [
    "########### PARTE2\n",
    "\n",
    "# Specific characters to look for\n",
    "specific_chars = 'Company '\n",
    "specific_chars_2 ='Operating revenue'\n",
    "\n",
    "# Identify columns that contain the specific characters\n",
    "columns_to_keep_1 = [column for column in data.columns if specific_chars  in column]\n",
    "columns_to_keep_2 = [column for column in data.columns if specific_chars_2 in column]\n",
    "\n",
    "\n",
    "# Drop these columns\n",
    "columns_to_keep_3 = columns_to_keep_1 +  columns_to_keep_2\n",
    "\n",
    "# Select only the columns to keep\n",
    "data = data[columns_to_keep_3]\n",
    "# The modified DataFrame\n",
    "data.head()"
   ]
  },
  {
   "cell_type": "code",
   "execution_count": null,
   "metadata": {},
   "outputs": [],
   "source": [
    "\n",
    "########################################## Reshaping  ##########################################\n",
    "\n",
    "\n",
    "# Reshaping the dataset from wide to long format at the year level\n",
    "# 'id_vars' is used to keep the 'Company name Latin alphabet' column as is\n",
    "# 'var_name' names the new column that will contain the years\n",
    "# 'value_name' names the new column that will contain the operating revenues\n",
    "reshaped_df = data.melt(id_vars=[\"Company name Latin alphabet\"], var_name=\"Year\", value_name=\"Operating Revenue LCU\")\n",
    "\n",
    "# Extracting the year from the 'Year' column\n",
    "# The lambda function takes each entry in 'Year', splits it by spaces, and takes the last part (which is the year)\n",
    "reshaped_df['Year'] = reshaped_df['Year'].apply(lambda x: x.split()[-1])\n",
    "\n",
    "reshaped_df.head()  # Displaying the first 5 rows of the reshaped dataframe\n",
    "\n"
   ]
  }
 ],
 "metadata": {
  "kernelspec": {
   "display_name": "Python 3",
   "language": "python",
   "name": "python3"
  },
  "language_info": {
   "codemirror_mode": {
    "name": "ipython",
    "version": 3
   },
   "file_extension": ".py",
   "mimetype": "text/x-python",
   "name": "python",
   "nbconvert_exporter": "python",
   "pygments_lexer": "ipython3",
   "version": "3.11.5"
  }
 },
 "nbformat": 4,
 "nbformat_minor": 2
}
